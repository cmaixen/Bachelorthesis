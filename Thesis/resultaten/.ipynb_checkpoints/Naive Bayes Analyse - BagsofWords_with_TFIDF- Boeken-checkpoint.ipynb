{
 "metadata": {
  "name": "",
  "signature": "sha256:c9436b3bde6944acf26b54d451c834338e5de4c3b571b05f8f0bfb77880de2e5"
 },
 "nbformat": 3,
 "nbformat_minor": 0,
 "worksheets": [
  {
   "cells": [
    {
     "cell_type": "code",
     "collapsed": false,
     "input": [
      "#LSA klasse\n",
      "class LSA(object):\n",
      "    \n",
      "    #initialiseren van het LSA object\n",
      "    def __init__(self, files, stopwords=None, ignorechars=None):\n",
      "        self.stopwords = stopwords\n",
      "        self.ignorechars = ignorechars\n",
      "        self.files = files\n",
      "        self.wdict = {}\n",
      "        self.dcount = 0\n",
      "        #omvat svd algorithme dat we gaan gebruiken.\n",
      "        self.svd_DTM_= TruncatedSVD(n_components=2)\n",
      "        self.svd_DTM_TFIDF_= TruncatedSVD(n_components=2)\n",
      "        self.svd_DTM = None\n",
      "        self.svd_DTM_TFIDF = None\n",
      "    \n",
      "    #parsen van strings en ieder voorkomen van het woord vastleggen\n",
      "    def parse(self, doc):\n",
      "        words = doc.split();\n",
      "        for w in words:\n",
      "            w = w.lower().translate(None, self.ignorechars)\n",
      "            if w in self.stopwords:\n",
      "                continue\n",
      "            elif w in self.wdict:\n",
      "                self.wdict[w].append(self.dcount)\n",
      "            else:\n",
      "                self.wdict[w] = [self.dcount]\n",
      "        self.dcount += 1  \n",
      "        \n",
      "    def parse_not_optimised(self, doc):\n",
      "        words = doc.split();\n",
      "        for w in words:\n",
      "            if w in self.wdict:\n",
      "                self.wdict[w].append(self.dcount)\n",
      "            else:\n",
      "                self.wdict[w] = [self.dcount]\n",
      "        self.dcount += 1  \n",
      "        \n",
      "        \n",
      "    def run(self, optimised=True):\n",
      "        #parsen van gegevens\n",
      "        if optimised:\n",
      "            for t in self.files:\n",
      "                self.parse(t)\n",
      "        else: \n",
      "            for t in self.files:\n",
      "                self.parse_not_optimised(t)\n",
      "                \n",
      "        #bouwen van document-term matrix documenten X termen\n",
      "        self.build_document_term_matrix()\n",
      "        print \"DTM build\"\n",
      "        #uitvoeren van TFIDF \n",
      "        self.TFIDF()\n",
      "        print \"TFIDF done\"\n",
      "        #uitvoeren svd. er zijn er twee, 1 voor DTM en DTM met op TFIDF op toegepast\n",
      "        #self.calc_svd()\n",
      "        print \"SVD calculated\"\n",
      "\n",
      "\n",
      "\n",
      "    #het bouwen van de document term matrix(DTM)  \n",
      "    def build_document_term_matrix(self):\n",
      "        self.keys = [k for k in self.wdict.keys() if len(self.wdict[k]) > 1]\n",
      "        self.keys.sort()\n",
      "        index_ = np.asarray(self.keys)\n",
      "        #je maakt een zeros matrix aan als aantal rijen het aantal keys en het aantal documenten het aantal kolommen.\n",
      "        self.DTM = pd.DataFrame(0,index=index_,columns=np.arange(self.dcount))\n",
      "        for i, k in enumerate(self.keys):\n",
      "            for d in self.wdict[k]:\n",
      "                self.DTM.loc[k,d] += 1\n",
      "        self.DTM = self.DTM.transpose()\n",
      "    \n",
      "    #gereed maken van de matrix voor TFIDF  rijen zijn hier de termen en kolommen zijn de documenten \n",
      "    def build_TFIDF(self):\n",
      "        self.keys = [k for k in self.wdict.keys() if len(self.wdict[k]) > 1]\n",
      "        self.keys.sort()\n",
      "        self.DTM_TFIDF = np.zeros([len(self.keys), self.dcount])\n",
      "        for i, k in enumerate(self.keys):\n",
      "            for d in self.wdict[k]:\n",
      "                self.DTM_TFIDF[i,d] += 1\n",
      "    \n",
      "    #We gaan ieder document reduceren naar 2 dimensies en de resultaten in een nieuwe matrix stoppen\n",
      "    #geeft een nieuw dataframe terug met n-documenten al rijen en 2 kolommen.\n",
      "\n",
      "    def calc_svd(self):\n",
      "       #svd op een gewone DTM met counting \n",
      "        self.svd_DTM_.fit(self.DTM)\n",
      "        self.svd_DTM = self.svd_DTM_.transform(self.DTM)\n",
      "       #svd op de DTM met TFIDF\n",
      "        self.svd_DTM_TFIDF_.fit(self.DTM_TFIDF)\n",
      "        self.svd_DTM_TFIDF = self.svd_DTM_TFIDF_.transform(self.DTM_TFIDF)\n",
      "     \n",
      "    #TFIDF algorithme\n",
      "    def TFIDF(self):\n",
      "        #bouw matrix compatible voor TFIDF algoritme\n",
      "        self.build_TFIDF()\n",
      "        #sum of the row\n",
      "        WordsPerDoc = np.sum(self.DTM_TFIDF, axis=0)\n",
      "        #sum of the colum\n",
      "        DocsPerWord = np.sum(np.asarray(self.DTM_TFIDF > 0, 'i'), axis=1)\n",
      "        rows, cols = self.DTM_TFIDF.shape\n",
      "        for i in range(rows):\n",
      "            for j in range(cols):\n",
      "                self.DTM_TFIDF[i,j] = (self.DTM_TFIDF[i,j] / WordsPerDoc[j]) * np.log(float(cols) / DocsPerWord[i])\n",
      "        #colommen en rijen staan omgewissel, zodanig het overeenkomt met DTM (documenten X termen)\n",
      "        self.DTM_TFIDF = np.nan_to_num(self.DTM_TFIDF.transpose())\n",
      "\n",
      "    def print_DTM(self):\n",
      "        print self.DTM\n",
      "\n",
      "    def get_DTM(self):\n",
      "        return self.DTM_TFIDF\n",
      "    \n",
      "        \n",
      "\n"
     ],
     "language": "python",
     "metadata": {},
     "outputs": [],
     "prompt_number": 40
    },
    {
     "cell_type": "code",
     "collapsed": false,
     "input": [
      "def random_file_selection(source, amount):\n",
      "    result = []\n",
      "    limit_random = len(source) - 1\n",
      "    random.randint(0, limit_random)\n",
      "    for i in range(amount):\n",
      "        result = result + [source[random.randint(0, limit_random)]]\n",
      "    return result\n",
      "\n",
      "def retreive_data(source,path,amount):\n",
      "    random_source = random_file_selection(source, amount)\n",
      "    counter = 0\n",
      "    destination = []\n",
      "    for filename in random_source:\n",
      "        with open ( path + filename, \"r\") as myfile:\n",
      "            data = myfile.read().replace('\\n', '')\n",
      "            counter= counter + 1\n",
      "            destination.append(data)\n",
      "            myfile.close()\n",
      "            if amount <= counter:\n",
      "                break\n",
      "    return destination\n",
      "\n",
      "#geeft array terug met niet geoptimaliseerde lsa objecten\n",
      "def pre_proces_by_lsa_not_opt(pos_directoryindex,pos_path,neg_directoryindex,neg_path,limit):\n",
      "    \n",
      "    TFIDFs = []\n",
      "\n",
      "    for i in range(amount_for_average):\n",
      "        print i\n",
      "        \n",
      "        pos_reviews = retreive_data(pos_directoryindex,pos_path,limit)\n",
      "        neg_reviews = retreive_data(neg_directoryindex,neg_path,limit)\n",
      "    \n",
      "        mylsa_not_opt = LSA(pos_reviews + neg_reviews)\n",
      "\n",
      "\n",
      "        mylsa_not_opt.run(False)\n",
      "        print  len(pos_reviews)\n",
      "        print  len(neg_reviews)\n",
      "        \n",
      "        \n",
      "        cutoff = len(pos_reviews)\n",
      "        result = [mylsa_not_opt.get_DTM(), cutoff]\n",
      "        TFIDFs.append(result)\n",
      "\n",
      "    #alle TFIDFs  \n",
      "    return TFIDFs\n",
      "        \n",
      "        \n",
      "#labelt de data corrrect\n",
      "\n",
      "def make_ready_for_classifiers(TFIDF , cutoff):\n",
      "    \n",
      "\n",
      "    #We cre\u00ebren een label kolom voor aan de features te plakken\n",
      "    P = TFIDF[:cutoff]\n",
      "    len_pos = P.shape[0]\n",
      "    pos_tag = np.asarray([\"pos\"] * len_pos)[:, np.newaxis]\n",
      "\n",
      "    N = TFIDF[cutoff:]\n",
      "    len_neg = N.shape[0]\n",
      "    neg_tag = np.asarray([\"neg\"] * len_neg)[:, np.newaxis]\n",
      "    \n",
      "   \n",
      "    full_tag = np.concatenate((pos_tag,neg_tag))\n",
      "    TFIDF_with_tag = np.concatenate((TFIDF, full_tag), axis=1)\n",
      "\n",
      "    \n",
      "\n",
      "    return TFIDF_with_tag\n",
      "    "
     ],
     "language": "python",
     "metadata": {},
     "outputs": [],
     "prompt_number": 14
    },
    {
     "cell_type": "code",
     "collapsed": false,
     "input": [
      "import nltk.classify.util\n",
      "from sklearn.naive_bayes import GaussianNB  #(continue naive bayes classifier)\n",
      "import collections\n",
      "import nltk.metrics\n",
      "import random\n",
      "import numpy as np\n",
      "from sklearn import tree\n",
      "from sklearn.metrics import confusion_matrix\n",
      "import numpy as np\n",
      "import matplotlib.pyplot as plt\n",
      "import random\n",
      "\n",
      "np.set_printoptions(threshold=np.nan)\n",
      "\n",
      "from sklearn.decomposition import TruncatedSVD\n",
      "import pandas as pd\n",
      "\n",
      "from BeautifulSoup import BeautifulSoup\n",
      "import urllib2\n",
      "import pickle\n",
      "\n",
      "import os\n",
      "amount_for_average = 10\n",
      "def evaluate_NB_with_average(TFIDFs, amount=amount_for_average):\n",
      "    print 'Takes average of %d results' +  str(amount)\n",
      "    \n",
      "    \n",
      "    \n",
      "    def evaluate_classifier(TFIDF , cutoff):\n",
      "        \n",
      "        data = make_ready_for_classifiers(TFIDF , cutoff)\n",
      "    \n",
      "        N_with_tag = data[cutoff:]\n",
      "        P_with_tag = data[:cutoff]\n",
      "    \n",
      "        #bestandsnamen van negatieve reviews\n",
      "        negfeats_matrix = N_with_tag\n",
      "        #bestandsnamen van positieve reviews\n",
      "        posfeats_matrix = P_with_tag\n",
      "        \n",
      "            \n",
      "        # We nemen 3/4 als onze trainingsset\n",
      "        #1/4 gebruiken we al validatieset\n",
      "        negcutoff = cutoff*3/4\n",
      "        poscutoff = cutoff*3/4 \n",
      "\n",
      "        trainfeats = np.concatenate((P_with_tag[:poscutoff], N_with_tag[:negcutoff]), axis=0)\n",
      "        testfeats = np.concatenate((P_with_tag[poscutoff:], N_with_tag[negcutoff:]), axis=0)\n",
      "      \n",
      "        def f(x): \n",
      "            if x== 'pos':\n",
      "                return 1\n",
      "            else: \n",
      "                return 0\n",
      "        \n",
      "        \n",
      "        X_train = np.array(trainfeats[:,:-1]).astype(np.float)\n",
      "        y_train = map(f,trainfeats[:,-1])\n",
      "        X_val = np.array(testfeats[:,:-1]).astype(np.float)\n",
      "        y_val = map(f,testfeats[:,-1])\n",
      "\n",
      "        classifier = GaussianNB()\n",
      "        \n",
      "        classifier = classifier.fit(X_train,y_train)\n",
      " \n",
      "\n",
      "        \n",
      "    \n",
      "        score_test = classifier.score(X_val,y_val)\n",
      "        score_train = classifier.score(X_train,y_train)\n",
      "       \n",
      "       \n",
      "        print \"Accuracy Naive Baiyes Classifier with Trainingsset : \" + str(score_train)\n",
      "        print \"Accuracy Naive Baiyes Classifier with Testset : \" + str(score_test)\n",
      "  \n",
      "        \n",
      "        return [score_train,score_test, classifier]\n",
      "        \n",
      "    score_testset = []\n",
      "    score_trainset = []\n",
      "    lastmodel =  []\n",
      " \n",
      "    for i in range(amount):\n",
      "            print 'Run ', i+1, 'started...'\n",
      "            try: \n",
      "                result = evaluate_classifier(TFIDFs[i][0],TFIDFs[i][1])\n",
      "                score_trainset.append(result[0])\n",
      "                score_testset.append(result[1])\n",
      "                lastmodel.append(result[2])\n",
      "                \n",
      "            except ZeroDivisionError:\n",
      "                print \"Oops there was a division by zero\"\n",
      "            print 'Done'\n",
      "            \n",
      "    print \"-------------------------------------\"\n",
      "    print \"Average Accuracy of Decision Tree with Trainingsset : \" + str(np.mean(score_trainset))\n",
      "    print \"Average Accuracy of Decision Tree with Testset : \" + str(np.mean(score_testset))\n",
      "\n",
      "    return lastmodel "
     ],
     "language": "python",
     "metadata": {},
     "outputs": [],
     "prompt_number": 2
    },
    {
     "cell_type": "code",
     "collapsed": false,
     "input": [
      "def evaluate_performance_classifier_with_average_on_strange_set(TFIDFs, classifiers , amount=amount_for_average):\n",
      "    print 'Takes average of ' +  str(amount)\n",
      "    \n",
      "    def evaluate_classifier(TFIDF , cutoff, given_classifier):\n",
      "        \n",
      "        data = make_ready_for_classifiers(TFIDF , cutoff)\n",
      "    \n",
      "        N_with_tag = data[cutoff:]\n",
      "        P_with_tag = data[:cutoff]\n",
      "\n",
      "        trainfeats = np.concatenate((P_with_tag, N_with_tag), axis=0)\n",
      "        testfeats = np.concatenate((P_with_tag, N_with_tag), axis=0)\n",
      "      \n",
      "        def f(x): \n",
      "            if x== 'pos':\n",
      "                return 1\n",
      "            else: \n",
      "                return 0\n",
      "        \n",
      "        \n",
      "        X_train = np.array(trainfeats[:,:-1]).astype(np.float)\n",
      "        y_train = map(f,trainfeats[:,-1])\n",
      "        X_val = np.array(testfeats[:,:-1]).astype(np.float)\n",
      "        y_val = map(f,testfeats[:,-1])\n",
      "\n",
      "\n",
      "        y_predict =  given_classifier.predict(X_val)\n",
      "        score_test = 1 - np.mean(y_val != y_predict) \n",
      "       \n",
      "        print \"Accuracy Naive Baiyes Classifier with Testset : \" + str(score_test)\n",
      "   \n",
      "        return score_test\n",
      "        \n",
      "    score_testset = []\n",
      " \n",
      "    counter = 0\n",
      "    for i in classifiers:\n",
      "            print 'Run ', counter+1, 'started...'\n",
      "            try: \n",
      "                result = evaluate_classifier(TFIDFs[counter][0],TFIDFs[counter][1], i)\n",
      "                score_testset.append(result)\n",
      "              \n",
      "                counter = counter + 1\n",
      "            except ZeroDivisionError:\n",
      "                print \"Oops there was a division by zero\"\n",
      "            print 'Done'\n",
      "            \n",
      "    print \"-------------------------------------\"\n",
      "    print \"Average Accuracy of Decision Tree with Testset : \" + str(np.mean(score_testset))"
     ],
     "language": "python",
     "metadata": {},
     "outputs": [],
     "prompt_number": 43
    },
    {
     "cell_type": "code",
     "collapsed": false,
     "input": [
      "from sklearn import learning_curve\n",
      "#algemene functie voor het weergeven van de learning curve\n",
      "def plot_learning_curve(model,title,TFIDFs, ylim=None):\n",
      "    plt.figure()\n",
      "    plt.title(title)\n",
      "    if ylim is not None:\n",
      "        plt.ylim(ymax = ylim)\n",
      "    plt.xlabel(\"Amount of Training examples\")\n",
      "    plt.ylabel(\"Accuracy\")\n",
      "    \n",
      "    TFIDF = TFIDFs[0][0]\n",
      "    cutoff = TFIDFs[0][1]\n",
      "    \n",
      "    data = make_ready_for_classifiers(TFIDF , cutoff)\n",
      "    \n",
      "    N_with_tag = data[cutoff:]\n",
      "    P_with_tag = data[:cutoff]\n",
      "    \n",
      "\n",
      "    trainfeats = np.concatenate((P_with_tag, N_with_tag), axis=0)\n",
      "    trainfeats = []\n",
      "    counter = 0\n",
      "    for i in P_with_tag:\n",
      "        trainfeats.append(i)\n",
      "        trainfeats.append(N_with_tag[counter])\n",
      "        counter += 1\n",
      "    trainfeats = np.asarray(trainfeats)\n",
      "    \n",
      "    #trainfeats = np.concatenate((P_with_tag, N_with_tag), axis=0)\n",
      "    \n",
      "    #np.random.shuffle(trainfeats)\n",
      "\n",
      "    def f(x): \n",
      "        if x== 'pos':\n",
      "            return 1\n",
      "        else: \n",
      "            return 0\n",
      "            \n",
      "        \n",
      "    X_train = np.array(trainfeats[:,:-1]).astype(np.float)\n",
      "    y_train = map(f,trainfeats[:,-1])\n",
      "    \n",
      "    train_sizes, train_scores, test_scores = learning_curve.learning_curve(model,X_train,y_train)\n",
      "    train_scores_mean = np.mean(train_scores, axis=1)\n",
      "    train_scores_std = np.std(train_scores, axis=1)\n",
      "    test_scores_mean = np.mean(test_scores, axis=1)\n",
      "    test_scores_std = np.std(test_scores, axis=1)\n",
      "    plt.grid()\n",
      "    plt.fill_between(train_sizes, train_scores_mean - train_scores_std,\n",
      "                     train_scores_mean + train_scores_std, alpha=0.1,\n",
      "                     color=\"r\")\n",
      "    plt.fill_between(train_sizes, test_scores_mean - test_scores_std,\n",
      "                     test_scores_mean + test_scores_std, alpha=0.1, color=\"g\")\n",
      "    plt.plot(train_sizes, train_scores_mean, 'o-', color=\"r\",\n",
      "             label=\"Training score\")\n",
      "    plt.plot(train_sizes, test_scores_mean, 'o-', color=\"g\",\n",
      "             label=\"Testscore\")\n",
      "    plt.legend(loc=\"best\")\n",
      "    plt.show()"
     ],
     "language": "python",
     "metadata": {},
     "outputs": [],
     "prompt_number": 44
    },
    {
     "cell_type": "code",
     "collapsed": false,
     "input": [
      "limit_other_sets = 10\n",
      "limit_scanning = 4\n",
      "special_limit_boekset = 14\n",
      "\n",
      "\n",
      "pos_path_movie = \"/Users/yannickmerckx/MEGAsync/Unif/3de Bachelor/Bachelorproef/Bachelorproef/moviemeter/pos/\"\n",
      "neg_path_movie = \"/Users/yannickmerckx/MEGAsync/Unif/3de Bachelor/Bachelorproef/Bachelorproef/moviemeter/neg/\"\n",
      "\n",
      "\n",
      "pos_path_boek = \"/Users/yannickmerckx/MEGAsync/Unif/3de Bachelor/Bachelorproef/Bachelorproef/boekmeter/pos/\"\n",
      "neg_path_boek = \"/Users/yannickmerckx/MEGAsync/Unif/3de Bachelor/Bachelorproef/Bachelorproef/boekmeter/neg/\"\n",
      "\n",
      "\n",
      "pos_path_music = \"/Users/yannickmerckx/MEGAsync/Unif/3de Bachelor/Bachelorproef/Bachelorproef/musicmeter/pos/\"\n",
      "neg_path_music= \"/Users/yannickmerckx/MEGAsync/Unif/3de Bachelor/Bachelorproef/Bachelorproef/musicmeter/neg/\"\n",
      "\n",
      "\n",
      "#genrische functie om lsa objecten aan te maken\n",
      "def get_DTM(pos_path, neg_path, limit):\n",
      "    \n",
      "    pos_directoryindex = os.listdir(pos_path)[1:len(os.listdir(pos_path))]\n",
      "    neg_directoryindex = os.listdir(neg_path)[1:len(os.listdir(neg_path))]\n",
      "    \n",
      "    return pre_proces_by_lsa_not_opt(pos_directoryindex,pos_path,neg_directoryindex,neg_path,limit)\n",
      "\n",
      "\n",
      "\n",
      "#DTMS_movie = get_DTM(pos_path_movie,neg_path_movie,limit_other_sets)"
     ],
     "language": "python",
     "metadata": {},
     "outputs": [],
     "prompt_number": 4
    },
    {
     "cell_type": "code",
     "collapsed": false,
     "input": [
      "# import sklearn\n",
      "# raw_documents = os.listdir(neg_path_movie)[1:len(os.listdir(neg_path_movie))]\n",
      "# result =  sklearn.feature_extraction.text.TfidfVectorizer().fit_transform(raw_documents)\n",
      "\n",
      "# print result[:,:2]"
     ],
     "language": "python",
     "metadata": {},
     "outputs": [
      {
       "output_type": "stream",
       "stream": "stdout",
       "text": [
        "  (0, 0)\t0.995137909216\n",
        "  (1, 1)\t0.995137909216\n"
       ]
      }
     ],
     "prompt_number": 21
    },
    {
     "cell_type": "code",
     "collapsed": false,
     "input": [
      "DTMS_boek = get_DTM(pos_path_boek,neg_path_boek,special_limit_boekset)"
     ],
     "language": "python",
     "metadata": {},
     "outputs": [
      {
       "output_type": "stream",
       "stream": "stdout",
       "text": [
        "0\n",
        "DTM build"
       ]
      },
      {
       "output_type": "stream",
       "stream": "stdout",
       "text": [
        "\n",
        "TFIDF done\n",
        "SVD calculated\n",
        "14\n",
        "14\n",
        "1\n",
        "DTM build"
       ]
      },
      {
       "output_type": "stream",
       "stream": "stdout",
       "text": [
        "\n",
        "TFIDF done\n",
        "SVD calculated\n",
        "14\n",
        "14\n",
        "2\n",
        "DTM build"
       ]
      },
      {
       "output_type": "stream",
       "stream": "stdout",
       "text": [
        "\n",
        "TFIDF done\n",
        "SVD calculated\n",
        "14\n",
        "14\n",
        "3\n",
        "DTM build"
       ]
      },
      {
       "output_type": "stream",
       "stream": "stdout",
       "text": [
        "\n",
        "TFIDF done\n",
        "SVD calculated\n",
        "14\n",
        "14\n",
        "4\n",
        "DTM build"
       ]
      },
      {
       "output_type": "stream",
       "stream": "stdout",
       "text": [
        "\n",
        "TFIDF done\n",
        "SVD calculated\n",
        "14\n",
        "14\n",
        "5\n",
        "DTM build"
       ]
      },
      {
       "output_type": "stream",
       "stream": "stdout",
       "text": [
        "\n",
        "TFIDF done\n",
        "SVD calculated\n",
        "14\n",
        "14\n",
        "6\n",
        "DTM build"
       ]
      },
      {
       "output_type": "stream",
       "stream": "stdout",
       "text": [
        "\n",
        "TFIDF done\n",
        "SVD calculated\n",
        "14\n",
        "14\n",
        "7\n",
        "DTM build"
       ]
      },
      {
       "output_type": "stream",
       "stream": "stdout",
       "text": [
        "\n",
        "TFIDF done\n",
        "SVD calculated\n",
        "14\n",
        "14\n",
        "8\n",
        "DTM build"
       ]
      },
      {
       "output_type": "stream",
       "stream": "stdout",
       "text": [
        "\n",
        "TFIDF done\n",
        "SVD calculated\n",
        "14\n",
        "14\n",
        "9\n",
        "DTM build"
       ]
      },
      {
       "output_type": "stream",
       "stream": "stdout",
       "text": [
        "\n",
        "TFIDF done\n",
        "SVD calculated\n",
        "14\n",
        "14\n"
       ]
      }
     ],
     "prompt_number": 46
    },
    {
     "cell_type": "code",
     "collapsed": false,
     "input": [
      "DTMS_music = get_DTM(pos_path_music,neg_path_music,limit_other_sets)"
     ],
     "language": "python",
     "metadata": {},
     "outputs": [
      {
       "output_type": "stream",
       "stream": "stdout",
       "text": [
        "0\n",
        "DTM build"
       ]
      },
      {
       "output_type": "stream",
       "stream": "stdout",
       "text": [
        "\n",
        "TFIDF done\n",
        "SVD calculated\n",
        "10\n",
        "10\n",
        "1\n",
        "DTM build"
       ]
      },
      {
       "output_type": "stream",
       "stream": "stdout",
       "text": [
        "\n",
        "TFIDF done\n",
        "SVD calculated\n",
        "10\n",
        "10\n",
        "2\n",
        "DTM build"
       ]
      },
      {
       "output_type": "stream",
       "stream": "stdout",
       "text": [
        "\n",
        "TFIDF done\n",
        "SVD calculated\n",
        "10\n",
        "10\n",
        "3\n",
        "DTM build"
       ]
      },
      {
       "output_type": "stream",
       "stream": "stdout",
       "text": [
        "\n",
        "TFIDF done\n",
        "SVD calculated\n",
        "10\n",
        "10\n",
        "4\n",
        "DTM build"
       ]
      },
      {
       "output_type": "stream",
       "stream": "stdout",
       "text": [
        "\n",
        "TFIDF done\n",
        "SVD calculated\n",
        "10\n",
        "10\n",
        "5\n",
        "DTM build"
       ]
      },
      {
       "output_type": "stream",
       "stream": "stdout",
       "text": [
        "\n",
        "TFIDF done\n",
        "SVD calculated\n",
        "10\n",
        "10\n",
        "6\n",
        "DTM build"
       ]
      },
      {
       "output_type": "stream",
       "stream": "stdout",
       "text": [
        "\n",
        "TFIDF done\n",
        "SVD calculated\n",
        "10\n",
        "10\n",
        "7\n",
        "DTM build"
       ]
      },
      {
       "output_type": "stream",
       "stream": "stdout",
       "text": [
        "\n",
        "TFIDF done\n",
        "SVD calculated\n",
        "10\n",
        "10\n",
        "8\n",
        "DTM build"
       ]
      },
      {
       "output_type": "stream",
       "stream": "stdout",
       "text": [
        "\n",
        "TFIDF done\n",
        "SVD calculated\n",
        "10\n",
        "10\n",
        "9\n",
        "DTM build"
       ]
      },
      {
       "output_type": "stream",
       "stream": "stdout",
       "text": [
        "\n",
        "TFIDF done\n",
        "SVD calculated\n",
        "10\n",
        "10\n"
       ]
      }
     ],
     "prompt_number": 47
    },
    {
     "cell_type": "heading",
     "level": 1,
     "metadata": {},
     "source": [
      "BOEKEN"
     ]
    },
    {
     "cell_type": "code",
     "collapsed": false,
     "input": [
      "NB_not_opt = evaluate_NB_with_average(DTMS_boek)"
     ],
     "language": "python",
     "metadata": {},
     "outputs": [
      {
       "output_type": "stream",
       "stream": "stdout",
       "text": [
        "Takes average of %d results10\n",
        "Run  1 started...\n",
        "Accuracy Naive Baiyes Classifier with Trainingsset : 1.0\n",
        "Accuracy Naive Baiyes Classifier with Testset : 0.5\n",
        "Done\n",
        "Run  2 started...\n",
        "Accuracy Naive Baiyes Classifier with Trainingsset : 0.95\n",
        "Accuracy Naive Baiyes Classifier with Testset : 0.375\n",
        "Done\n",
        "Run  3 started...\n",
        "Accuracy Naive Baiyes Classifier with Trainingsset : 1.0\n",
        "Accuracy Naive Baiyes Classifier with Testset : 0.75\n",
        "Done\n",
        "Run  4 started...\n",
        "Accuracy Naive Baiyes Classifier with Trainingsset : 1.0\n",
        "Accuracy Naive Baiyes Classifier with Testset : 0.375\n",
        "Done\n",
        "Run  5 started...\n",
        "Accuracy Naive Baiyes Classifier with Trainingsset : 1.0\n",
        "Accuracy Naive Baiyes Classifier with Testset : 0.5\n",
        "Done\n",
        "Run  6 started...\n",
        "Accuracy Naive Baiyes Classifier with Trainingsset : 1.0\n",
        "Accuracy Naive Baiyes Classifier with Testset : 0.25\n",
        "Done\n",
        "Run  7 started...\n",
        "Accuracy Naive Baiyes Classifier with Trainingsset : 1.0\n",
        "Accuracy Naive Baiyes Classifier with Testset : 0.875\n",
        "Done\n",
        "Run  8 started...\n",
        "Accuracy Naive Baiyes Classifier with Trainingsset : 1.0\n",
        "Accuracy Naive Baiyes Classifier with Testset : 0.625\n",
        "Done\n",
        "Run  9 started...\n",
        "Accuracy Naive Baiyes Classifier with Trainingsset : 1.0\n",
        "Accuracy Naive Baiyes Classifier with Testset : 0.5\n",
        "Done\n",
        "Run  10 started...\n",
        "Accuracy Naive Baiyes Classifier with Trainingsset : 1.0\n",
        "Accuracy Naive Baiyes Classifier with Testset : 0.75\n",
        "Done\n",
        "-------------------------------------\n",
        "Average Accuracy of Decision Tree with Trainingsset : 0.995\n",
        "Average Accuracy of Decision Tree with Testset : 0.55\n"
       ]
      }
     ],
     "prompt_number": 48
    },
    {
     "cell_type": "code",
     "collapsed": false,
     "input": [
      "%matplotlib inline\n",
      "plot_learning_curve(GaussianNB(),'test',DTMS_boek, 1.05)"
     ],
     "language": "python",
     "metadata": {},
     "outputs": [
      {
       "metadata": {},
       "output_type": "display_data",
       "png": "[encoded data removed]",
       "text": [
        "<matplotlib.figure.Figure at 0x1094cb910>"
       ]
      }
     ],
     "prompt_number": 49
    },
    {
     "cell_type": "heading",
     "level": 1,
     "metadata": {},
     "source": [
      "MUZIEK"
     ]
    },
    {
     "cell_type": "code",
     "collapsed": false,
     "input": [
      "evaluate_performance_classifier_with_average_on_strange_set(DTMS_music, NB_not_opt)"
     ],
     "language": "python",
     "metadata": {},
     "outputs": [
      {
       "output_type": "stream",
       "stream": "stdout",
       "text": [
        "Takes average of 10\n",
        "Run  1 started...\n"
       ]
      },
      {
       "ename": "ValueError",
       "evalue": "operands could not be broadcast together with shapes (20,109) (264,) ",
       "output_type": "pyerr",
       "traceback": [
        "\u001b[0;31m---------------------------------------------------------------------------\u001b[0m\n\u001b[0;31mValueError\u001b[0m                                Traceback (most recent call last)",
        "\u001b[0;32m<ipython-input-50-0323f83f11d3>\u001b[0m in \u001b[0;36m<module>\u001b[0;34m()\u001b[0m\n\u001b[0;32m----> 1\u001b[0;31m \u001b[0mevaluate_performance_classifier_with_average_on_strange_set\u001b[0m\u001b[0;34m(\u001b[0m\u001b[0mDTMS_music\u001b[0m\u001b[0;34m,\u001b[0m \u001b[0mNB_not_opt\u001b[0m\u001b[0;34m)\u001b[0m\u001b[0;34m\u001b[0m\u001b[0m\n\u001b[0m",
        "\u001b[0;32m<ipython-input-43-99a6288d8673>\u001b[0m in \u001b[0;36mevaluate_performance_classifier_with_average_on_strange_set\u001b[0;34m(TFIDFs, classifiers, amount)\u001b[0m\n\u001b[1;32m     38\u001b[0m             \u001b[0;32mprint\u001b[0m \u001b[0;34m'Run '\u001b[0m\u001b[0;34m,\u001b[0m \u001b[0mcounter\u001b[0m\u001b[0;34m+\u001b[0m\u001b[0;36m1\u001b[0m\u001b[0;34m,\u001b[0m \u001b[0;34m'started...'\u001b[0m\u001b[0;34m\u001b[0m\u001b[0m\n\u001b[1;32m     39\u001b[0m             \u001b[0;32mtry\u001b[0m\u001b[0;34m:\u001b[0m\u001b[0;34m\u001b[0m\u001b[0m\n\u001b[0;32m---> 40\u001b[0;31m                 \u001b[0mresult\u001b[0m \u001b[0;34m=\u001b[0m \u001b[0mevaluate_classifier\u001b[0m\u001b[0;34m(\u001b[0m\u001b[0mTFIDFs\u001b[0m\u001b[0;34m[\u001b[0m\u001b[0mcounter\u001b[0m\u001b[0;34m]\u001b[0m\u001b[0;34m[\u001b[0m\u001b[0;36m0\u001b[0m\u001b[0;34m]\u001b[0m\u001b[0;34m,\u001b[0m\u001b[0mTFIDFs\u001b[0m\u001b[0;34m[\u001b[0m\u001b[0mcounter\u001b[0m\u001b[0;34m]\u001b[0m\u001b[0;34m[\u001b[0m\u001b[0;36m1\u001b[0m\u001b[0;34m]\u001b[0m\u001b[0;34m,\u001b[0m \u001b[0mi\u001b[0m\u001b[0;34m)\u001b[0m\u001b[0;34m\u001b[0m\u001b[0m\n\u001b[0m\u001b[1;32m     41\u001b[0m                 \u001b[0mscore_testset\u001b[0m\u001b[0;34m.\u001b[0m\u001b[0mappend\u001b[0m\u001b[0;34m(\u001b[0m\u001b[0mresult\u001b[0m\u001b[0;34m)\u001b[0m\u001b[0;34m\u001b[0m\u001b[0m\n\u001b[1;32m     42\u001b[0m \u001b[0;34m\u001b[0m\u001b[0m\n",
        "\u001b[0;32m<ipython-input-43-99a6288d8673>\u001b[0m in \u001b[0;36mevaluate_classifier\u001b[0;34m(TFIDF, cutoff, given_classifier)\u001b[0m\n\u001b[1;32m     25\u001b[0m \u001b[0;34m\u001b[0m\u001b[0m\n\u001b[1;32m     26\u001b[0m \u001b[0;34m\u001b[0m\u001b[0m\n\u001b[0;32m---> 27\u001b[0;31m         \u001b[0my_predict\u001b[0m \u001b[0;34m=\u001b[0m  \u001b[0mgiven_classifier\u001b[0m\u001b[0;34m.\u001b[0m\u001b[0mpredict\u001b[0m\u001b[0;34m(\u001b[0m\u001b[0mX_val\u001b[0m\u001b[0;34m)\u001b[0m\u001b[0;34m\u001b[0m\u001b[0m\n\u001b[0m\u001b[1;32m     28\u001b[0m         \u001b[0mscore_test\u001b[0m \u001b[0;34m=\u001b[0m \u001b[0;36m1\u001b[0m \u001b[0;34m-\u001b[0m \u001b[0mnp\u001b[0m\u001b[0;34m.\u001b[0m\u001b[0mmean\u001b[0m\u001b[0;34m(\u001b[0m\u001b[0my_val\u001b[0m \u001b[0;34m!=\u001b[0m \u001b[0my_predict\u001b[0m\u001b[0;34m)\u001b[0m\u001b[0;34m\u001b[0m\u001b[0m\n\u001b[1;32m     29\u001b[0m \u001b[0;34m\u001b[0m\u001b[0m\n",
        "\u001b[0;32m/Library/Python/2.7/site-packages/sklearn/naive_bayes.pyc\u001b[0m in \u001b[0;36mpredict\u001b[0;34m(self, X)\u001b[0m\n\u001b[1;32m     60\u001b[0m             \u001b[0mPredicted\u001b[0m \u001b[0mtarget\u001b[0m \u001b[0mvalues\u001b[0m \u001b[0;32mfor\u001b[0m \u001b[0mX\u001b[0m\u001b[0;34m\u001b[0m\u001b[0m\n\u001b[1;32m     61\u001b[0m         \"\"\"\n\u001b[0;32m---> 62\u001b[0;31m         \u001b[0mjll\u001b[0m \u001b[0;34m=\u001b[0m \u001b[0mself\u001b[0m\u001b[0;34m.\u001b[0m\u001b[0m_joint_log_likelihood\u001b[0m\u001b[0;34m(\u001b[0m\u001b[0mX\u001b[0m\u001b[0;34m)\u001b[0m\u001b[0;34m\u001b[0m\u001b[0m\n\u001b[0m\u001b[1;32m     63\u001b[0m         \u001b[0;32mreturn\u001b[0m \u001b[0mself\u001b[0m\u001b[0;34m.\u001b[0m\u001b[0mclasses_\u001b[0m\u001b[0;34m[\u001b[0m\u001b[0mnp\u001b[0m\u001b[0;34m.\u001b[0m\u001b[0margmax\u001b[0m\u001b[0;34m(\u001b[0m\u001b[0mjll\u001b[0m\u001b[0;34m,\u001b[0m \u001b[0maxis\u001b[0m\u001b[0;34m=\u001b[0m\u001b[0;36m1\u001b[0m\u001b[0;34m)\u001b[0m\u001b[0;34m]\u001b[0m\u001b[0;34m\u001b[0m\u001b[0m\n\u001b[1;32m     64\u001b[0m \u001b[0;34m\u001b[0m\u001b[0m\n",
        "\u001b[0;32m/Library/Python/2.7/site-packages/sklearn/naive_bayes.pyc\u001b[0m in \u001b[0;36m_joint_log_likelihood\u001b[0;34m(self, X)\u001b[0m\n\u001b[1;32m    172\u001b[0m             \u001b[0mjointi\u001b[0m \u001b[0;34m=\u001b[0m \u001b[0mnp\u001b[0m\u001b[0;34m.\u001b[0m\u001b[0mlog\u001b[0m\u001b[0;34m(\u001b[0m\u001b[0mself\u001b[0m\u001b[0;34m.\u001b[0m\u001b[0mclass_prior_\u001b[0m\u001b[0;34m[\u001b[0m\u001b[0mi\u001b[0m\u001b[0;34m]\u001b[0m\u001b[0;34m)\u001b[0m\u001b[0;34m\u001b[0m\u001b[0m\n\u001b[1;32m    173\u001b[0m             \u001b[0mn_ij\u001b[0m \u001b[0;34m=\u001b[0m \u001b[0;34m-\u001b[0m \u001b[0;36m0.5\u001b[0m \u001b[0;34m*\u001b[0m \u001b[0mnp\u001b[0m\u001b[0;34m.\u001b[0m\u001b[0msum\u001b[0m\u001b[0;34m(\u001b[0m\u001b[0mnp\u001b[0m\u001b[0;34m.\u001b[0m\u001b[0mlog\u001b[0m\u001b[0;34m(\u001b[0m\u001b[0;36m2.\u001b[0m \u001b[0;34m*\u001b[0m \u001b[0mnp\u001b[0m\u001b[0;34m.\u001b[0m\u001b[0mpi\u001b[0m \u001b[0;34m*\u001b[0m \u001b[0mself\u001b[0m\u001b[0;34m.\u001b[0m\u001b[0msigma_\u001b[0m\u001b[0;34m[\u001b[0m\u001b[0mi\u001b[0m\u001b[0;34m,\u001b[0m \u001b[0;34m:\u001b[0m\u001b[0;34m]\u001b[0m\u001b[0;34m)\u001b[0m\u001b[0;34m)\u001b[0m\u001b[0;34m\u001b[0m\u001b[0m\n\u001b[0;32m--> 174\u001b[0;31m             n_ij -= 0.5 * np.sum(((X - self.theta_[i, :]) ** 2) /\n\u001b[0m\u001b[1;32m    175\u001b[0m                                  (self.sigma_[i, :]), 1)\n\u001b[1;32m    176\u001b[0m             \u001b[0mjoint_log_likelihood\u001b[0m\u001b[0;34m.\u001b[0m\u001b[0mappend\u001b[0m\u001b[0;34m(\u001b[0m\u001b[0mjointi\u001b[0m \u001b[0;34m+\u001b[0m \u001b[0mn_ij\u001b[0m\u001b[0;34m)\u001b[0m\u001b[0;34m\u001b[0m\u001b[0m\n",
        "\u001b[0;31mValueError\u001b[0m: operands could not be broadcast together with shapes (20,109) (264,) "
       ]
      }
     ],
     "prompt_number": 50
    },
    {
     "cell_type": "heading",
     "level": 1,
     "metadata": {},
     "source": [
      "MOVIE"
     ]
    },
    {
     "cell_type": "code",
     "collapsed": false,
     "input": [
      "evaluate_performance_classifier_with_average_on_strange_set(DTMS_movie, NB_not_opt)"
     ],
     "language": "python",
     "metadata": {},
     "outputs": []
    },
    {
     "cell_type": "code",
     "collapsed": false,
     "input": [],
     "language": "python",
     "metadata": {},
     "outputs": []
    },
    {
     "cell_type": "code",
     "collapsed": false,
     "input": [],
     "language": "python",
     "metadata": {},
     "outputs": []
    },
    {
     "cell_type": "code",
     "collapsed": false,
     "input": [],
     "language": "python",
     "metadata": {},
     "outputs": []
    },
    {
     "cell_type": "code",
     "collapsed": false,
     "input": [],
     "language": "python",
     "metadata": {},
     "outputs": []
    },
    {
     "cell_type": "code",
     "collapsed": false,
     "input": [],
     "language": "python",
     "metadata": {},
     "outputs": []
    },
    {
     "cell_type": "code",
     "collapsed": false,
     "input": [],
     "language": "python",
     "metadata": {},
     "outputs": []
    },
    {
     "cell_type": "code",
     "collapsed": false,
     "input": [],
     "language": "python",
     "metadata": {},
     "outputs": []
    },
    {
     "cell_type": "code",
     "collapsed": false,
     "input": [],
     "language": "python",
     "metadata": {},
     "outputs": []
    },
    {
     "cell_type": "code",
     "collapsed": false,
     "input": [],
     "language": "python",
     "metadata": {},
     "outputs": []
    },
    {
     "cell_type": "code",
     "collapsed": false,
     "input": [],
     "language": "python",
     "metadata": {},
     "outputs": []
    },
    {
     "cell_type": "code",
     "collapsed": false,
     "input": [],
     "language": "python",
     "metadata": {},
     "outputs": []
    },
    {
     "cell_type": "code",
     "collapsed": false,
     "input": [],
     "language": "python",
     "metadata": {},
     "outputs": []
    },
    {
     "cell_type": "code",
     "collapsed": false,
     "input": [],
     "language": "python",
     "metadata": {},
     "outputs": []
    },
    {
     "cell_type": "code",
     "collapsed": false,
     "input": [],
     "language": "python",
     "metadata": {},
     "outputs": []
    },
    {
     "cell_type": "code",
     "collapsed": false,
     "input": [],
     "language": "python",
     "metadata": {},
     "outputs": []
    },
    {
     "cell_type": "code",
     "collapsed": false,
     "input": [],
     "language": "python",
     "metadata": {},
     "outputs": []
    },
    {
     "cell_type": "code",
     "collapsed": false,
     "input": [],
     "language": "python",
     "metadata": {},
     "outputs": []
    },
    {
     "cell_type": "code",
     "collapsed": false,
     "input": [],
     "language": "python",
     "metadata": {},
     "outputs": []
    }
   ],
   "metadata": {}
  }
 ]
}